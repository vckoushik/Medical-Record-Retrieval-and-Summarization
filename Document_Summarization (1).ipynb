{
  "cells": [
    {
      "cell_type": "markdown",
      "source": [
        "#Loading the data and cleaning"
      ],
      "metadata": {
        "id": "CU_ONbDNgofH"
      }
    },
    {
      "cell_type": "code",
      "execution_count": null,
      "metadata": {
        "id": "uZIisBsnNSHm"
      },
      "outputs": [],
      "source": [
        "import math\n",
        "from collections import Counter\n",
        "import operator\n",
        "import numpy as np\n",
        "import re\n",
        "import optparse\n",
        "import os \n",
        "import glob\n",
        "import sys \n",
        "#Reading the documents\n",
        "files = glob.glob(os.path.join('', '*'))\n",
        "#print(files)\n",
        "doc_numbers = list()\n",
        "text = list()\n",
        "title=list()\n",
        "# Cleaning the documents\n",
        "for file in files:\n",
        "    # Open the file\n",
        "    \n",
        "    try:\n",
        "        with open(file, 'r', encoding='utf-8') as f:\n",
        "            # Read the contents of the file\n",
        "            content = f.read()\n",
        "            t=content.split('\\n')\n",
        "            st =t[1]\n",
        "            st=st.replace('      ', '')\n",
        "            title.append(st)\n",
        "            stripped_content = content.replace('\\n', ' ') \n",
        "            stripped_content = stripped_content.replace('     ', '')\n",
        "            stripped_content = stripped_content.replace('TITLE:','')\n",
        "            stripped_content = stripped_content.replace('SUMMARY:','')\n",
        "            stripped_content = stripped_content.replace('DETAILED DESCRIPTION:','')\n",
        "            stripped_content = stripped_content.replace('ELIGIBILITY CRITERIA:','')\n",
        "            stripped_content = stripped_content.replace('Inclusion Criteria:','')\n",
        "            stripped_content = stripped_content.replace('Exclusion Criteria:','')\n",
        "            doc_numbers.append(file)\n",
        "            text.append(stripped_content)\n",
        "            DOCUMENT = stripped_content\n",
        "            break\n",
        "            \n",
        "    except:\n",
        "        continue\n",
        "\n"
      ]
    },
    {
      "cell_type": "markdown",
      "metadata": {
        "id": "pdDsnY46NSHq"
      },
      "source": [
        "# Text Preprocessing\n"
      ]
    },
    {
      "cell_type": "code",
      "execution_count": null,
      "metadata": {
        "id": "OnNIHpNTNSHt"
      },
      "outputs": [],
      "source": [
        "import re\n",
        "\n",
        "DOCUMENT = re.sub(r'\\n|\\r', ' ', DOCUMENT)\n",
        "DOCUMENT = re.sub(r' +', ' ', DOCUMENT)\n",
        "\n",
        "DOCUMENT = DOCUMENT.strip()\n"
      ]
    },
    {
      "cell_type": "code",
      "source": [
        "!pip install gensim==3.6.0"
      ],
      "metadata": {
        "colab": {
          "base_uri": "https://localhost:8080/"
        },
        "id": "Rb7Y8W8MN_xF",
        "outputId": "16f48ee6-04e4-4748-9b7c-d8a37c9c9451"
      },
      "execution_count": null,
      "outputs": [
        {
          "output_type": "stream",
          "name": "stdout",
          "text": [
            "Looking in indexes: https://pypi.org/simple, https://us-python.pkg.dev/colab-wheels/public/simple/\n",
            "Requirement already satisfied: gensim==3.6.0 in /usr/local/lib/python3.9/dist-packages (3.6.0)\n",
            "Requirement already satisfied: scipy>=0.18.1 in /usr/local/lib/python3.9/dist-packages (from gensim==3.6.0) (1.10.1)\n",
            "Requirement already satisfied: six>=1.5.0 in /usr/local/lib/python3.9/dist-packages (from gensim==3.6.0) (1.16.0)\n",
            "Requirement already satisfied: smart-open>=1.2.1 in /usr/local/lib/python3.9/dist-packages (from gensim==3.6.0) (6.3.0)\n",
            "Requirement already satisfied: numpy>=1.11.3 in /usr/local/lib/python3.9/dist-packages (from gensim==3.6.0) (1.22.4)\n"
          ]
        }
      ]
    },
    {
      "cell_type": "code",
      "execution_count": null,
      "metadata": {
        "colab": {
          "base_uri": "https://localhost:8080/",
          "height": 122
        },
        "id": "bcS1ei1xNSHt",
        "outputId": "9560f952-cfc5-4d80-a49c-0afd8aa9f4ae"
      },
      "outputs": [
        {
          "output_type": "execute_result",
          "data": {
            "text/plain": [
              "'This study will develop and evaluate an approach to low back pain that allows subjects to talk with each other and with health professionals via an Internet discussion group.\\nResults we will look at include health behaviors, such as exercise; health status, such as pain and disability; and health care use, such as number of visits to doctors and other health care providers.\\nAnyone 18 years old or older who lives in the United States and has ongoing Internet access can take part in the study.\\nAll subjects must have back pain and meet the eligibility criteria listed below.\\nThis study will develop and evaluate in a randomized trial a low back pain intervention that allows subjects to talk with each other and with health professionals via an Internet discussion group.\\nThe intervention consists of a book and a videotape and is based on interaction with other participants in the program and health professionals through a closed password protected moderated Internet discussion group.\\nOutcome measures include health behaviors, such as exercise; health status, such as pain and disability; and health care use, such as number of visits to doctors and other health care providers.\\nPatients will be randomized either to the treatment group and followed for 6, 12, 18, and 24 months with the intervention.\\n- Must live in the United States - Must understand and write English - Must have access to a computer with e-mail and expect to have this access for at least 3 years - Must be 18 years old - Must have seen a doctor for back pain at least once in the past year - Pregnancy - Back surgery in the past 6 months - Expectation of having back surgery in the next 6 months - Back pain due to a car accident or other major injury within the last 6 months - Back pain or sciatica due to systemic disease (inflammatory rheumatic diseases, tumor, or other) - Major physical or mental health condition for which one is currently being treated that severely limits daily activities - Terminal illness - Receiving disability or workers compensation insurance payments for back pain or sciatica - Presently involved in legal proceedings because of back pain or sciatica - Difficulty with bladder or bowel control that began with back pain or sciatica - No visits to a doctor in the past year for back pain or sciatica - Numbness in crotch area that began with back pain or sciatica - Age under 18'"
            ],
            "application/vnd.google.colaboratory.intrinsic+json": {
              "type": "string"
            }
          },
          "metadata": {},
          "execution_count": 18
        }
      ],
      "source": [
        "from gensim.summarization import summarize\n",
        "#Using the Gensim Summarizer\n",
        "\n",
        "summarize(DOCUMENT, ratio=0.9, split=False)"
      ]
    },
    {
      "cell_type": "code",
      "execution_count": null,
      "metadata": {
        "colab": {
          "base_uri": "https://localhost:8080/",
          "height": 70
        },
        "id": "ForZwjjbNSHv",
        "outputId": "6b2ee59b-df85-43f9-992a-094e24327e36"
      },
      "outputs": [
        {
          "output_type": "execute_result",
          "data": {
            "text/plain": [
              "'This study will develop and evaluate an approach to low back pain that allows subjects to talk with each other and with health professionals via an Internet discussion group.\\nResults we will look at include health behaviors, such as exercise; health status, such as pain and disability; and health care use, such as number of visits to doctors and other health care providers.\\nThis study will develop and evaluate in a randomized trial a low back pain intervention that allows subjects to talk with each other and with health professionals via an Internet discussion group.'"
            ],
            "application/vnd.google.colaboratory.intrinsic+json": {
              "type": "string"
            }
          },
          "metadata": {},
          "execution_count": 19
        }
      ],
      "source": [
        "summary = summarize(DOCUMENT, word_count=100, split=False)\n",
        "\n",
        "summary"
      ]
    },
    {
      "cell_type": "code",
      "source": [
        "!pip install rouge"
      ],
      "metadata": {
        "colab": {
          "base_uri": "https://localhost:8080/"
        },
        "id": "dAKXItnWbvuj",
        "outputId": "c993a441-f330-4489-e66d-25f02f8605f6"
      },
      "execution_count": null,
      "outputs": [
        {
          "output_type": "stream",
          "name": "stdout",
          "text": [
            "Looking in indexes: https://pypi.org/simple, https://us-python.pkg.dev/colab-wheels/public/simple/\n",
            "Collecting rouge\n",
            "  Downloading rouge-1.0.1-py3-none-any.whl (13 kB)\n",
            "Requirement already satisfied: six in /usr/local/lib/python3.9/dist-packages (from rouge) (1.16.0)\n",
            "Installing collected packages: rouge\n",
            "Successfully installed rouge-1.0.1\n"
          ]
        }
      ]
    },
    {
      "cell_type": "code",
      "source": [
        "from rouge import Rouge\n",
        "rouge = Rouge()\n",
        "reference_summary = \"This study will develop and evaluate an approach to low back pain that allows subjects to talk with each other and with health professionals via an Internet discussion group. Outcome measures include health behaviors, health status, and health care use. Must have access to a computer with e-mail, be 18 years old, and have seen a doctor for back pain at least once in the past year. Back pain or sciatica can lead to severe limitations, legal proceedings, bladder/bowel control issues, and numbness in the crotch.\"\n",
        "scores = rouge.get_scores(summary, reference_summary)\n",
        "print(\"ROUGE-1 Precision:\", scores[0]['rouge-1']['p'])\n",
        "print(\"ROUGE-1 Recall:\", scores[0]['rouge-1']['r'])\n",
        "print(\"ROUGE-1 F1-score:\", scores[0]['rouge-1']['f'])\n",
        "\n",
        "print(\"ROUGE-2 Precision:\", scores[0]['rouge-2']['p'])\n",
        "print(\"ROUGE-2 Recall:\", scores[0]['rouge-2']['r'])\n",
        "print(\"ROUGE-2 F1-score:\", scores[0]['rouge-2']['f'])\n",
        "\n",
        "print(\"ROUGE-L Precision:\", scores[0]['rouge-l']['p'])\n",
        "print(\"ROUGE-L Recall:\", scores[0]['rouge-l']['r'])\n",
        "print(\"ROUGE-L F1-score:\", scores[0]['rouge-l']['f'])\n"
      ],
      "metadata": {
        "colab": {
          "base_uri": "https://localhost:8080/"
        },
        "id": "8HNOcmngbRUw",
        "outputId": "562584bb-324e-417d-8863-e32233597122"
      },
      "execution_count": null,
      "outputs": [
        {
          "output_type": "stream",
          "name": "stdout",
          "text": [
            "ROUGE-1 Precision: 0.9\n",
            "ROUGE-1 Recall: 0.4090909090909091\n",
            "ROUGE-1 F1-score: 0.5624999957031251\n",
            "ROUGE-2 Precision: 0.7567567567567568\n",
            "ROUGE-2 Recall: 0.3373493975903614\n",
            "ROUGE-2 F1-score: 0.46666666240138893\n",
            "ROUGE-L Precision: 0.8666666666666667\n",
            "ROUGE-L Recall: 0.3939393939393939\n",
            "ROUGE-L F1-score: 0.5416666623697917\n"
          ]
        }
      ]
    },
    {
      "cell_type": "code",
      "execution_count": null,
      "metadata": {
        "colab": {
          "base_uri": "https://localhost:8080/"
        },
        "id": "UT0dXyd0NSHv",
        "outputId": "cc1d6c14-8f2f-4634-fee6-ff52b3396dbf"
      },
      "outputs": [
        {
          "output_type": "stream",
          "name": "stderr",
          "text": [
            "[nltk_data] Downloading package punkt to /root/nltk_data...\n",
            "[nltk_data]   Package punkt is already up-to-date!\n"
          ]
        },
        {
          "output_type": "execute_result",
          "data": {
            "text/plain": [
              "11"
            ]
          },
          "metadata": {},
          "execution_count": 8
        }
      ],
      "source": [
        "import nltk\n",
        "nltk.download('punkt')\n",
        "sentences = nltk.sent_tokenize(DOCUMENT)\n",
        "\n",
        "len(sentences)"
      ]
    },
    {
      "cell_type": "code",
      "execution_count": null,
      "metadata": {
        "colab": {
          "base_uri": "https://localhost:8080/"
        },
        "id": "1Y1hdNbFNSHw",
        "outputId": "e372b94c-4976-4ff0-9493-a2c2a7838245"
      },
      "outputs": [
        {
          "output_type": "stream",
          "name": "stderr",
          "text": [
            "[nltk_data] Downloading package stopwords to /root/nltk_data...\n",
            "[nltk_data]   Unzipping corpora/stopwords.zip.\n"
          ]
        }
      ],
      "source": [
        "import numpy as np\n",
        "import re\n",
        "\n",
        "nltk.download('stopwords')\n",
        "stop_words = nltk.corpus.stopwords.words('english')\n",
        "\n",
        "def normalize_document(doc):\n",
        "    doc = re.sub(r'[^a-zA-Z\\s]', '', doc, re.I|re.A)\n",
        "    doc = doc.lower()\n",
        "    tokens = nltk.word_tokenize(doc)\n",
        "    filtered_tokens = [token for token in tokens if token not in stop_words]\n",
        "    doc = ' '.join(filtered_tokens)\n",
        "    return doc\n",
        "\n",
        "normalize_corpus = np.vectorize(normalize_document)"
      ]
    },
    {
      "cell_type": "code",
      "execution_count": null,
      "metadata": {
        "colab": {
          "base_uri": "https://localhost:8080/"
        },
        "id": "wck9sP81NSHw",
        "outputId": "e912c8fb-ca9e-4285-caad-6d75d70aa4c5"
      },
      "outputs": [
        {
          "output_type": "execute_result",
          "data": {
            "text/plain": [
              "array(['low back pain patient education evaluation back pain one common symptoms',\n",
              "       'also great cause days lost work visits health care providers',\n",
              "       'study develop evaluate approach low back pain allows subjects talk health professionals via internet discussion group'],\n",
              "      dtype='<U771')"
            ]
          },
          "metadata": {},
          "execution_count": 10
        }
      ],
      "source": [
        "norm_sentences = normalize_corpus(sentences)\n",
        "norm_sentences[:3]"
      ]
    },
    {
      "cell_type": "markdown",
      "metadata": {
        "id": "w2sKaSmvNSHx"
      },
      "source": [
        "# Text Representation with Feature Engineering"
      ]
    },
    {
      "cell_type": "code",
      "execution_count": null,
      "metadata": {
        "colab": {
          "base_uri": "https://localhost:8080/",
          "height": 380
        },
        "id": "WcC_tfH7NSHx",
        "outputId": "3802b2de-11dd-452a-f723-6019a62c50a1"
      },
      "outputs": [
        {
          "output_type": "stream",
          "name": "stdout",
          "text": [
            "(137, 11)\n"
          ]
        },
        {
          "output_type": "execute_result",
          "data": {
            "text/plain": [
              "              0     1     2    3     4     5     6    7    8    9     10\n",
              "access      0.00  0.00  0.00  0.0  0.26  0.00  0.00  0.0  0.0  0.0  0.12\n",
              "accident    0.00  0.00  0.00  0.0  0.00  0.00  0.00  0.0  0.0  0.0  0.07\n",
              "activities  0.00  0.00  0.00  0.0  0.00  0.00  0.00  0.0  0.0  0.0  0.07\n",
              "age         0.00  0.00  0.00  0.0  0.00  0.00  0.00  0.0  0.0  0.0  0.07\n",
              "allows      0.00  0.00  0.28  0.0  0.00  0.00  0.26  0.0  0.0  0.0  0.00\n",
              "also        0.00  0.36  0.00  0.0  0.00  0.00  0.00  0.0  0.0  0.0  0.00\n",
              "anyone      0.00  0.00  0.00  0.0  0.31  0.00  0.00  0.0  0.0  0.0  0.00\n",
              "approach    0.00  0.00  0.33  0.0  0.00  0.00  0.00  0.0  0.0  0.0  0.00\n",
              "area        0.00  0.00  0.00  0.0  0.00  0.00  0.00  0.0  0.0  0.0  0.07\n",
              "back        0.41  0.00  0.20  0.0  0.00  0.25  0.19  0.0  0.0  0.0  0.42"
            ],
            "text/html": [
              "\n",
              "  <div id=\"df-596f22fe-a649-455a-a3ac-7a76919b51b5\">\n",
              "    <div class=\"colab-df-container\">\n",
              "      <div>\n",
              "<style scoped>\n",
              "    .dataframe tbody tr th:only-of-type {\n",
              "        vertical-align: middle;\n",
              "    }\n",
              "\n",
              "    .dataframe tbody tr th {\n",
              "        vertical-align: top;\n",
              "    }\n",
              "\n",
              "    .dataframe thead th {\n",
              "        text-align: right;\n",
              "    }\n",
              "</style>\n",
              "<table border=\"1\" class=\"dataframe\">\n",
              "  <thead>\n",
              "    <tr style=\"text-align: right;\">\n",
              "      <th></th>\n",
              "      <th>0</th>\n",
              "      <th>1</th>\n",
              "      <th>2</th>\n",
              "      <th>3</th>\n",
              "      <th>4</th>\n",
              "      <th>5</th>\n",
              "      <th>6</th>\n",
              "      <th>7</th>\n",
              "      <th>8</th>\n",
              "      <th>9</th>\n",
              "      <th>10</th>\n",
              "    </tr>\n",
              "  </thead>\n",
              "  <tbody>\n",
              "    <tr>\n",
              "      <th>access</th>\n",
              "      <td>0.00</td>\n",
              "      <td>0.00</td>\n",
              "      <td>0.00</td>\n",
              "      <td>0.0</td>\n",
              "      <td>0.26</td>\n",
              "      <td>0.00</td>\n",
              "      <td>0.00</td>\n",
              "      <td>0.0</td>\n",
              "      <td>0.0</td>\n",
              "      <td>0.0</td>\n",
              "      <td>0.12</td>\n",
              "    </tr>\n",
              "    <tr>\n",
              "      <th>accident</th>\n",
              "      <td>0.00</td>\n",
              "      <td>0.00</td>\n",
              "      <td>0.00</td>\n",
              "      <td>0.0</td>\n",
              "      <td>0.00</td>\n",
              "      <td>0.00</td>\n",
              "      <td>0.00</td>\n",
              "      <td>0.0</td>\n",
              "      <td>0.0</td>\n",
              "      <td>0.0</td>\n",
              "      <td>0.07</td>\n",
              "    </tr>\n",
              "    <tr>\n",
              "      <th>activities</th>\n",
              "      <td>0.00</td>\n",
              "      <td>0.00</td>\n",
              "      <td>0.00</td>\n",
              "      <td>0.0</td>\n",
              "      <td>0.00</td>\n",
              "      <td>0.00</td>\n",
              "      <td>0.00</td>\n",
              "      <td>0.0</td>\n",
              "      <td>0.0</td>\n",
              "      <td>0.0</td>\n",
              "      <td>0.07</td>\n",
              "    </tr>\n",
              "    <tr>\n",
              "      <th>age</th>\n",
              "      <td>0.00</td>\n",
              "      <td>0.00</td>\n",
              "      <td>0.00</td>\n",
              "      <td>0.0</td>\n",
              "      <td>0.00</td>\n",
              "      <td>0.00</td>\n",
              "      <td>0.00</td>\n",
              "      <td>0.0</td>\n",
              "      <td>0.0</td>\n",
              "      <td>0.0</td>\n",
              "      <td>0.07</td>\n",
              "    </tr>\n",
              "    <tr>\n",
              "      <th>allows</th>\n",
              "      <td>0.00</td>\n",
              "      <td>0.00</td>\n",
              "      <td>0.28</td>\n",
              "      <td>0.0</td>\n",
              "      <td>0.00</td>\n",
              "      <td>0.00</td>\n",
              "      <td>0.26</td>\n",
              "      <td>0.0</td>\n",
              "      <td>0.0</td>\n",
              "      <td>0.0</td>\n",
              "      <td>0.00</td>\n",
              "    </tr>\n",
              "    <tr>\n",
              "      <th>also</th>\n",
              "      <td>0.00</td>\n",
              "      <td>0.36</td>\n",
              "      <td>0.00</td>\n",
              "      <td>0.0</td>\n",
              "      <td>0.00</td>\n",
              "      <td>0.00</td>\n",
              "      <td>0.00</td>\n",
              "      <td>0.0</td>\n",
              "      <td>0.0</td>\n",
              "      <td>0.0</td>\n",
              "      <td>0.00</td>\n",
              "    </tr>\n",
              "    <tr>\n",
              "      <th>anyone</th>\n",
              "      <td>0.00</td>\n",
              "      <td>0.00</td>\n",
              "      <td>0.00</td>\n",
              "      <td>0.0</td>\n",
              "      <td>0.31</td>\n",
              "      <td>0.00</td>\n",
              "      <td>0.00</td>\n",
              "      <td>0.0</td>\n",
              "      <td>0.0</td>\n",
              "      <td>0.0</td>\n",
              "      <td>0.00</td>\n",
              "    </tr>\n",
              "    <tr>\n",
              "      <th>approach</th>\n",
              "      <td>0.00</td>\n",
              "      <td>0.00</td>\n",
              "      <td>0.33</td>\n",
              "      <td>0.0</td>\n",
              "      <td>0.00</td>\n",
              "      <td>0.00</td>\n",
              "      <td>0.00</td>\n",
              "      <td>0.0</td>\n",
              "      <td>0.0</td>\n",
              "      <td>0.0</td>\n",
              "      <td>0.00</td>\n",
              "    </tr>\n",
              "    <tr>\n",
              "      <th>area</th>\n",
              "      <td>0.00</td>\n",
              "      <td>0.00</td>\n",
              "      <td>0.00</td>\n",
              "      <td>0.0</td>\n",
              "      <td>0.00</td>\n",
              "      <td>0.00</td>\n",
              "      <td>0.00</td>\n",
              "      <td>0.0</td>\n",
              "      <td>0.0</td>\n",
              "      <td>0.0</td>\n",
              "      <td>0.07</td>\n",
              "    </tr>\n",
              "    <tr>\n",
              "      <th>back</th>\n",
              "      <td>0.41</td>\n",
              "      <td>0.00</td>\n",
              "      <td>0.20</td>\n",
              "      <td>0.0</td>\n",
              "      <td>0.00</td>\n",
              "      <td>0.25</td>\n",
              "      <td>0.19</td>\n",
              "      <td>0.0</td>\n",
              "      <td>0.0</td>\n",
              "      <td>0.0</td>\n",
              "      <td>0.42</td>\n",
              "    </tr>\n",
              "  </tbody>\n",
              "</table>\n",
              "</div>\n",
              "      <button class=\"colab-df-convert\" onclick=\"convertToInteractive('df-596f22fe-a649-455a-a3ac-7a76919b51b5')\"\n",
              "              title=\"Convert this dataframe to an interactive table.\"\n",
              "              style=\"display:none;\">\n",
              "        \n",
              "  <svg xmlns=\"http://www.w3.org/2000/svg\" height=\"24px\"viewBox=\"0 0 24 24\"\n",
              "       width=\"24px\">\n",
              "    <path d=\"M0 0h24v24H0V0z\" fill=\"none\"/>\n",
              "    <path d=\"M18.56 5.44l.94 2.06.94-2.06 2.06-.94-2.06-.94-.94-2.06-.94 2.06-2.06.94zm-11 1L8.5 8.5l.94-2.06 2.06-.94-2.06-.94L8.5 2.5l-.94 2.06-2.06.94zm10 10l.94 2.06.94-2.06 2.06-.94-2.06-.94-.94-2.06-.94 2.06-2.06.94z\"/><path d=\"M17.41 7.96l-1.37-1.37c-.4-.4-.92-.59-1.43-.59-.52 0-1.04.2-1.43.59L10.3 9.45l-7.72 7.72c-.78.78-.78 2.05 0 2.83L4 21.41c.39.39.9.59 1.41.59.51 0 1.02-.2 1.41-.59l7.78-7.78 2.81-2.81c.8-.78.8-2.07 0-2.86zM5.41 20L4 18.59l7.72-7.72 1.47 1.35L5.41 20z\"/>\n",
              "  </svg>\n",
              "      </button>\n",
              "      \n",
              "  <style>\n",
              "    .colab-df-container {\n",
              "      display:flex;\n",
              "      flex-wrap:wrap;\n",
              "      gap: 12px;\n",
              "    }\n",
              "\n",
              "    .colab-df-convert {\n",
              "      background-color: #E8F0FE;\n",
              "      border: none;\n",
              "      border-radius: 50%;\n",
              "      cursor: pointer;\n",
              "      display: none;\n",
              "      fill: #1967D2;\n",
              "      height: 32px;\n",
              "      padding: 0 0 0 0;\n",
              "      width: 32px;\n",
              "    }\n",
              "\n",
              "    .colab-df-convert:hover {\n",
              "      background-color: #E2EBFA;\n",
              "      box-shadow: 0px 1px 2px rgba(60, 64, 67, 0.3), 0px 1px 3px 1px rgba(60, 64, 67, 0.15);\n",
              "      fill: #174EA6;\n",
              "    }\n",
              "\n",
              "    [theme=dark] .colab-df-convert {\n",
              "      background-color: #3B4455;\n",
              "      fill: #D2E3FC;\n",
              "    }\n",
              "\n",
              "    [theme=dark] .colab-df-convert:hover {\n",
              "      background-color: #434B5C;\n",
              "      box-shadow: 0px 1px 3px 1px rgba(0, 0, 0, 0.15);\n",
              "      filter: drop-shadow(0px 1px 2px rgba(0, 0, 0, 0.3));\n",
              "      fill: #FFFFFF;\n",
              "    }\n",
              "  </style>\n",
              "\n",
              "      <script>\n",
              "        const buttonEl =\n",
              "          document.querySelector('#df-596f22fe-a649-455a-a3ac-7a76919b51b5 button.colab-df-convert');\n",
              "        buttonEl.style.display =\n",
              "          google.colab.kernel.accessAllowed ? 'block' : 'none';\n",
              "\n",
              "        async function convertToInteractive(key) {\n",
              "          const element = document.querySelector('#df-596f22fe-a649-455a-a3ac-7a76919b51b5');\n",
              "          const dataTable =\n",
              "            await google.colab.kernel.invokeFunction('convertToInteractive',\n",
              "                                                     [key], {});\n",
              "          if (!dataTable) return;\n",
              "\n",
              "          const docLinkHtml = 'Like what you see? Visit the ' +\n",
              "            '<a target=\"_blank\" href=https://colab.research.google.com/notebooks/data_table.ipynb>data table notebook</a>'\n",
              "            + ' to learn more about interactive tables.';\n",
              "          element.innerHTML = '';\n",
              "          dataTable['output_type'] = 'display_data';\n",
              "          await google.colab.output.renderOutput(dataTable, element);\n",
              "          const docLink = document.createElement('div');\n",
              "          docLink.innerHTML = docLinkHtml;\n",
              "          element.appendChild(docLink);\n",
              "        }\n",
              "      </script>\n",
              "    </div>\n",
              "  </div>\n",
              "  "
            ]
          },
          "metadata": {},
          "execution_count": 11
        }
      ],
      "source": [
        "from sklearn.feature_extraction.text import TfidfVectorizer\n",
        "import pandas as pd\n",
        "\n",
        "tv = TfidfVectorizer(min_df=0., max_df=1., use_idf=True)\n",
        "dt_matrix = tv.fit_transform(norm_sentences)\n",
        "dt_matrix = dt_matrix.toarray()\n",
        "\n",
        "vocab = tv.get_feature_names_out()\n",
        "td_matrix = dt_matrix.T\n",
        "print(td_matrix.shape)\n",
        "pd.DataFrame(np.round(td_matrix, 2), index=vocab).head(10)"
      ]
    },
    {
      "cell_type": "markdown",
      "metadata": {
        "id": "eUxWSuP0NSHy"
      },
      "source": [
        "# Latent Semantic Analysis"
      ]
    },
    {
      "cell_type": "code",
      "execution_count": null,
      "metadata": {
        "id": "LSMWklc0NSHy"
      },
      "outputs": [],
      "source": [
        "from scipy.sparse.linalg import svds\n",
        "    \n",
        "def low_rank_svd(matrix, singular_count=2):\n",
        "    u, s, vt = svds(matrix, k=singular_count)\n",
        "    return u, s, vt"
      ]
    },
    {
      "cell_type": "code",
      "execution_count": null,
      "metadata": {
        "colab": {
          "base_uri": "https://localhost:8080/"
        },
        "id": "s2Wk4sATNSHy",
        "outputId": "48939220-f614-48b0-8f26-2175bf3a4fc8"
      },
      "outputs": [
        {
          "output_type": "stream",
          "name": "stdout",
          "text": [
            "(137, 3) (3,) (3, 11)\n"
          ]
        }
      ],
      "source": [
        "num_sentences = 8\n",
        "num_topics = 3\n",
        "\n",
        "u, s, vt = low_rank_svd(td_matrix, singular_count=num_topics)  \n",
        "print(u.shape, s.shape, vt.shape)\n",
        "term_topic_mat, singular_values, topic_document_mat = u, s, vt"
      ]
    },
    {
      "cell_type": "code",
      "execution_count": null,
      "metadata": {
        "id": "Io5zhh-kNSHy"
      },
      "outputs": [],
      "source": [
        "# remove singular values below threshold                                         \n",
        "sv_threshold = 0.5\n",
        "min_sigma_value = max(singular_values) * sv_threshold\n",
        "singular_values[singular_values < min_sigma_value] = 0"
      ]
    },
    {
      "cell_type": "code",
      "execution_count": null,
      "metadata": {
        "colab": {
          "base_uri": "https://localhost:8080/"
        },
        "id": "oS8Xls4bNSHz",
        "outputId": "50fe0a80-d0f4-44fd-af5b-c009e806e201"
      },
      "outputs": [
        {
          "output_type": "execute_result",
          "data": {
            "text/plain": [
              "array([0.6675744 , 0.5311254 , 0.88891539, 0.93516341, 0.19559259,\n",
              "       0.65048121, 0.92404369, 0.55312878, 0.93516341, 0.36613533,\n",
              "       0.73790598])"
            ]
          },
          "metadata": {},
          "execution_count": 28
        }
      ],
      "source": [
        "salience_scores = np.sqrt(np.dot(np.square(singular_values), \n",
        "                                 np.square(topic_document_mat)))\n",
        "salience_scores"
      ]
    },
    {
      "cell_type": "code",
      "execution_count": null,
      "metadata": {
        "id": "tGx3_p8YNSHz"
      },
      "outputs": [],
      "source": [
        "top_sentence_indices = (-salience_scores).argsort()[:num_sentences]\n",
        "top_sentence_indices.sort()"
      ]
    },
    {
      "cell_type": "code",
      "execution_count": null,
      "metadata": {
        "colab": {
          "base_uri": "https://localhost:8080/"
        },
        "id": "mPhwO3EoNSHz",
        "outputId": "ddce6b66-21eb-495c-c954-400154d3f53d"
      },
      "outputs": [
        {
          "output_type": "stream",
          "name": "stdout",
          "text": [
            "Low Back Pain Patient Education Evaluation Back pain is one of the most common of all symptoms.\n",
            "This study will develop and evaluate an approach to low back pain that allows subjects to talk with each other and with health professionals via an Internet discussion group.\n",
            "Results we will look at include health behaviors, such as exercise; health status, such as pain and disability; and health care use, such as number of visits to doctors and other health care providers.\n",
            "All subjects must have back pain and meet the eligibility criteria listed below.\n",
            "This study will develop and evaluate in a randomized trial a low back pain intervention that allows subjects to talk with each other and with health professionals via an Internet discussion group.\n",
            "The intervention consists of a book and a videotape and is based on interaction with other participants in the program and health professionals through a closed password protected moderated Internet discussion group.\n",
            "Outcome measures include health behaviors, such as exercise; health status, such as pain and disability; and health care use, such as number of visits to doctors and other health care providers.\n",
            "- Must live in the United States - Must understand and write English - Must have access to a computer with e-mail and expect to have this access for at least 3 years - Must be 18 years old - Must have seen a doctor for back pain at least once in the past year - Pregnancy - Back surgery in the past 6 months - Expectation of having back surgery in the next 6 months - Back pain due to a car accident or other major injury within the last 6 months - Back pain or sciatica due to systemic disease (inflammatory rheumatic diseases, tumor, or other) - Major physical or mental health condition for which one is currently being treated that severely limits daily activities - Terminal illness - Receiving disability or workers compensation insurance payments for back pain or sciatica - Presently involved in legal proceedings because of back pain or sciatica - Difficulty with bladder or bowel control that began with back pain or sciatica - No visits to a doctor in the past year for back pain or sciatica - Numbness in crotch area that began with back pain or sciatica - Age under 18\n"
          ]
        }
      ],
      "source": [
        "print('\\n'.join(np.array(sentences)[top_sentence_indices]))"
      ]
    },
    {
      "cell_type": "code",
      "execution_count": null,
      "metadata": {
        "colab": {
          "base_uri": "https://localhost:8080/"
        },
        "id": "gdMkKvTRNSH0",
        "outputId": "d77106e7-1b5e-4204-9f12-aff0d40cd817"
      },
      "outputs": [
        {
          "output_type": "stream",
          "name": "stdout",
          "text": [
            "(11, 11)\n"
          ]
        },
        {
          "output_type": "execute_result",
          "data": {
            "text/plain": [
              "array([[1.   , 0.   , 0.201, 0.044, 0.   , 0.172, 0.188, 0.   , 0.044,\n",
              "        0.   , 0.282],\n",
              "       [0.   , 1.   , 0.03 , 0.289, 0.   , 0.   , 0.028, 0.024, 0.289,\n",
              "        0.   , 0.017],\n",
              "       [0.201, 0.03 , 1.   , 0.107, 0.102, 0.16 , 0.835, 0.202, 0.107,\n",
              "        0.058, 0.135],\n",
              "       [0.044, 0.289, 0.107, 1.   , 0.   , 0.027, 0.1  , 0.07 , 0.869,\n",
              "        0.   , 0.072],\n",
              "       [0.   , 0.   , 0.102, 0.   , 1.   , 0.   , 0.096, 0.037, 0.   ,\n",
              "        0.   , 0.108],\n",
              "       [0.172, 0.   , 0.16 , 0.027, 0.   , 1.   , 0.15 , 0.   , 0.027,\n",
              "        0.   , 0.265],\n",
              "       [0.188, 0.028, 0.835, 0.1  , 0.096, 0.15 , 1.   , 0.236, 0.1  ,\n",
              "        0.211, 0.126],\n",
              "       [0.   , 0.024, 0.202, 0.07 , 0.037, 0.   , 0.236, 1.   , 0.07 ,\n",
              "        0.107, 0.005],\n",
              "       [0.044, 0.289, 0.107, 0.869, 0.   , 0.027, 0.1  , 0.07 , 1.   ,\n",
              "        0.   , 0.072],\n",
              "       [0.   , 0.   , 0.058, 0.   , 0.   , 0.   , 0.211, 0.107, 0.   ,\n",
              "        1.   , 0.059],\n",
              "       [0.282, 0.017, 0.135, 0.072, 0.108, 0.265, 0.126, 0.005, 0.072,\n",
              "        0.059, 1.   ]])"
            ]
          },
          "metadata": {},
          "execution_count": 31
        }
      ],
      "source": [
        "similarity_matrix = np.matmul(dt_matrix, dt_matrix.T)\n",
        "print(similarity_matrix.shape)\n",
        "np.round(similarity_matrix, 3)"
      ]
    }
  ],
  "metadata": {
    "kernelspec": {
      "display_name": "Python 3",
      "language": "python",
      "name": "python3"
    },
    "language_info": {
      "codemirror_mode": {
        "name": "ipython",
        "version": 3
      },
      "file_extension": ".py",
      "mimetype": "text/x-python",
      "name": "python",
      "nbconvert_exporter": "python",
      "pygments_lexer": "ipython3",
      "version": "3.6.5"
    },
    "colab": {
      "provenance": []
    }
  },
  "nbformat": 4,
  "nbformat_minor": 0
}